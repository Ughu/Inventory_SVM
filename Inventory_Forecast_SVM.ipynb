{
 "cells": [
  {
   "cell_type": "code",
   "execution_count": 37,
   "id": "3fb031c2",
   "metadata": {},
   "outputs": [],
   "source": [
    "import pandas as pd\n",
    "import numpy as np"
   ]
  },
  {
   "cell_type": "code",
   "execution_count": 38,
   "id": "394752ff",
   "metadata": {},
   "outputs": [
    {
     "name": "stdout",
     "output_type": "stream",
     "text": [
      "        date  sales\n",
      "0 2012-12-31    894\n",
      "1 2013-01-07    863\n",
      "2 2013-01-14    867\n",
      "3 2013-01-21    816\n",
      "4 2013-01-28    969\n"
     ]
    }
   ],
   "source": [
    "df = pd.read_csv('inventory_train.csv')\n",
    "\n",
    "df = df[df['item'] == 1]\n",
    "df['date'] = pd.to_datetime(df['date']) - pd.to_timedelta(7, unit='d')\n",
    "df = df.filter(['date', 'sales']).groupby([pd.Grouper(key='date', freq='W-MON')]).sum().reset_index()\n",
    "print(df.head()) # NOW WE HAVE SALES FOR ITEM 1 GROUPED IN WEEKS"
   ]
  },
  {
   "cell_type": "code",
   "execution_count": 39,
   "id": "b0aa1169",
   "metadata": {},
   "outputs": [
    {
     "data": {
      "text/html": [
       "<div>\n",
       "<style scoped>\n",
       "    .dataframe tbody tr th:only-of-type {\n",
       "        vertical-align: middle;\n",
       "    }\n",
       "\n",
       "    .dataframe tbody tr th {\n",
       "        vertical-align: top;\n",
       "    }\n",
       "\n",
       "    .dataframe thead th {\n",
       "        text-align: right;\n",
       "    }\n",
       "</style>\n",
       "<table border=\"1\" class=\"dataframe\">\n",
       "  <thead>\n",
       "    <tr style=\"text-align: right;\">\n",
       "      <th></th>\n",
       "      <th>date</th>\n",
       "      <th>sales</th>\n",
       "      <th>shift_sale</th>\n",
       "    </tr>\n",
       "  </thead>\n",
       "  <tbody>\n",
       "    <tr>\n",
       "      <th>0</th>\n",
       "      <td>2012-12-31</td>\n",
       "      <td>894</td>\n",
       "      <td>863.0</td>\n",
       "    </tr>\n",
       "    <tr>\n",
       "      <th>1</th>\n",
       "      <td>2013-01-07</td>\n",
       "      <td>863</td>\n",
       "      <td>867.0</td>\n",
       "    </tr>\n",
       "    <tr>\n",
       "      <th>2</th>\n",
       "      <td>2013-01-14</td>\n",
       "      <td>867</td>\n",
       "      <td>816.0</td>\n",
       "    </tr>\n",
       "    <tr>\n",
       "      <th>3</th>\n",
       "      <td>2013-01-21</td>\n",
       "      <td>816</td>\n",
       "      <td>969.0</td>\n",
       "    </tr>\n",
       "    <tr>\n",
       "      <th>4</th>\n",
       "      <td>2013-01-28</td>\n",
       "      <td>969</td>\n",
       "      <td>920.0</td>\n",
       "    </tr>\n",
       "    <tr>\n",
       "      <th>...</th>\n",
       "      <td>...</td>\n",
       "      <td>...</td>\n",
       "      <td>...</td>\n",
       "    </tr>\n",
       "    <tr>\n",
       "      <th>255</th>\n",
       "      <td>2017-11-20</td>\n",
       "      <td>1818</td>\n",
       "      <td>1490.0</td>\n",
       "    </tr>\n",
       "    <tr>\n",
       "      <th>256</th>\n",
       "      <td>2017-11-27</td>\n",
       "      <td>1490</td>\n",
       "      <td>1311.0</td>\n",
       "    </tr>\n",
       "    <tr>\n",
       "      <th>257</th>\n",
       "      <td>2017-12-04</td>\n",
       "      <td>1311</td>\n",
       "      <td>1308.0</td>\n",
       "    </tr>\n",
       "    <tr>\n",
       "      <th>258</th>\n",
       "      <td>2017-12-11</td>\n",
       "      <td>1308</td>\n",
       "      <td>1262.0</td>\n",
       "    </tr>\n",
       "    <tr>\n",
       "      <th>259</th>\n",
       "      <td>2017-12-18</td>\n",
       "      <td>1262</td>\n",
       "      <td>1167.0</td>\n",
       "    </tr>\n",
       "  </tbody>\n",
       "</table>\n",
       "<p>260 rows × 3 columns</p>\n",
       "</div>"
      ],
      "text/plain": [
       "          date  sales  shift_sale\n",
       "0   2012-12-31    894       863.0\n",
       "1   2013-01-07    863       867.0\n",
       "2   2013-01-14    867       816.0\n",
       "3   2013-01-21    816       969.0\n",
       "4   2013-01-28    969       920.0\n",
       "..         ...    ...         ...\n",
       "255 2017-11-20   1818      1490.0\n",
       "256 2017-11-27   1490      1311.0\n",
       "257 2017-12-04   1311      1308.0\n",
       "258 2017-12-11   1308      1262.0\n",
       "259 2017-12-18   1262      1167.0\n",
       "\n",
       "[260 rows x 3 columns]"
      ]
     },
     "execution_count": 39,
     "metadata": {},
     "output_type": "execute_result"
    }
   ],
   "source": [
    "df['shift_sale'] = df['sales'].shift(-1)\n",
    "df = df.iloc[:-1]\n",
    "df"
   ]
  },
  {
   "cell_type": "code",
   "execution_count": 40,
   "id": "6e606e39",
   "metadata": {},
   "outputs": [],
   "source": [
    "def four_week_avg(sales):\n",
    "    sum = 0\n",
    "    week_avg = []\n",
    "    for i in range(3, -1, -1):\n",
    "        for j in range(i):\n",
    "            sum += sales[j]\n",
    "        if(i!=0):\n",
    "            week_avg.append(sum/i)\n",
    "        sum = 0\n",
    "    week_avg.append(sales[0])\n",
    "    week_avg.reverse()\n",
    "    for row in range(len(sales) - 4):\n",
    "        for row in range(row, row + 4):\n",
    "            sum += sales[row]\n",
    "        week_avg.append(sum / 4)\n",
    "        sum = 0\n",
    "    return week_avg"
   ]
  },
  {
   "cell_type": "code",
   "execution_count": 41,
   "id": "e1142043",
   "metadata": {},
   "outputs": [
    {
     "name": "stdout",
     "output_type": "stream",
     "text": [
      "        date  sales  shift_sale    week_avg\n",
      "0 2012-12-31    894       863.0  894.000000\n",
      "1 2013-01-07    863       867.0  894.000000\n",
      "2 2013-01-14    867       816.0  878.500000\n",
      "3 2013-01-21    816       969.0  874.666667\n",
      "4 2013-01-28    969       920.0  860.000000\n"
     ]
    }
   ],
   "source": [
    "df['week_avg'] = four_week_avg(df['sales'].tolist())\n",
    "print(df.head())\n"
   ]
  },
  {
   "cell_type": "code",
   "execution_count": 42,
   "id": "3ff18b45",
   "metadata": {},
   "outputs": [
    {
     "data": {
      "text/html": [
       "<div>\n",
       "<style scoped>\n",
       "    .dataframe tbody tr th:only-of-type {\n",
       "        vertical-align: middle;\n",
       "    }\n",
       "\n",
       "    .dataframe tbody tr th {\n",
       "        vertical-align: top;\n",
       "    }\n",
       "\n",
       "    .dataframe thead th {\n",
       "        text-align: right;\n",
       "    }\n",
       "</style>\n",
       "<table border=\"1\" class=\"dataframe\">\n",
       "  <thead>\n",
       "    <tr style=\"text-align: right;\">\n",
       "      <th></th>\n",
       "      <th>sales</th>\n",
       "      <th>shift_sale</th>\n",
       "      <th>week_avg</th>\n",
       "    </tr>\n",
       "  </thead>\n",
       "  <tbody>\n",
       "    <tr>\n",
       "      <th>count</th>\n",
       "      <td>260.000000</td>\n",
       "      <td>260.000000</td>\n",
       "      <td>260.000000</td>\n",
       "    </tr>\n",
       "    <tr>\n",
       "      <th>mean</th>\n",
       "      <td>1539.296154</td>\n",
       "      <td>1540.346154</td>\n",
       "      <td>1535.263141</td>\n",
       "    </tr>\n",
       "    <tr>\n",
       "      <th>std</th>\n",
       "      <td>329.349776</td>\n",
       "      <td>327.715686</td>\n",
       "      <td>325.182824</td>\n",
       "    </tr>\n",
       "    <tr>\n",
       "      <th>min</th>\n",
       "      <td>816.000000</td>\n",
       "      <td>816.000000</td>\n",
       "      <td>860.000000</td>\n",
       "    </tr>\n",
       "    <tr>\n",
       "      <th>25%</th>\n",
       "      <td>1281.250000</td>\n",
       "      <td>1281.250000</td>\n",
       "      <td>1288.375000</td>\n",
       "    </tr>\n",
       "    <tr>\n",
       "      <th>50%</th>\n",
       "      <td>1560.500000</td>\n",
       "      <td>1560.500000</td>\n",
       "      <td>1547.625000</td>\n",
       "    </tr>\n",
       "    <tr>\n",
       "      <th>75%</th>\n",
       "      <td>1782.750000</td>\n",
       "      <td>1782.750000</td>\n",
       "      <td>1786.062500</td>\n",
       "    </tr>\n",
       "    <tr>\n",
       "      <th>max</th>\n",
       "      <td>2290.000000</td>\n",
       "      <td>2290.000000</td>\n",
       "      <td>2244.000000</td>\n",
       "    </tr>\n",
       "  </tbody>\n",
       "</table>\n",
       "</div>"
      ],
      "text/plain": [
       "             sales   shift_sale     week_avg\n",
       "count   260.000000   260.000000   260.000000\n",
       "mean   1539.296154  1540.346154  1535.263141\n",
       "std     329.349776   327.715686   325.182824\n",
       "min     816.000000   816.000000   860.000000\n",
       "25%    1281.250000  1281.250000  1288.375000\n",
       "50%    1560.500000  1560.500000  1547.625000\n",
       "75%    1782.750000  1782.750000  1786.062500\n",
       "max    2290.000000  2290.000000  2244.000000"
      ]
     },
     "execution_count": 42,
     "metadata": {},
     "output_type": "execute_result"
    }
   ],
   "source": [
    "df=df.drop('date', axis=1)\n",
    "df.describe()"
   ]
  },
  {
   "cell_type": "code",
   "execution_count": 43,
   "id": "2105c03d",
   "metadata": {},
   "outputs": [
    {
     "data": {
      "text/html": [
       "<div>\n",
       "<style scoped>\n",
       "    .dataframe tbody tr th:only-of-type {\n",
       "        vertical-align: middle;\n",
       "    }\n",
       "\n",
       "    .dataframe tbody tr th {\n",
       "        vertical-align: top;\n",
       "    }\n",
       "\n",
       "    .dataframe thead th {\n",
       "        text-align: right;\n",
       "    }\n",
       "</style>\n",
       "<table border=\"1\" class=\"dataframe\">\n",
       "  <thead>\n",
       "    <tr style=\"text-align: right;\">\n",
       "      <th></th>\n",
       "      <th>sales</th>\n",
       "      <th>shift_sale</th>\n",
       "      <th>week_avg</th>\n",
       "    </tr>\n",
       "  </thead>\n",
       "  <tbody>\n",
       "    <tr>\n",
       "      <th>0</th>\n",
       "      <td>894</td>\n",
       "      <td>863.0</td>\n",
       "      <td>894.000000</td>\n",
       "    </tr>\n",
       "    <tr>\n",
       "      <th>1</th>\n",
       "      <td>863</td>\n",
       "      <td>867.0</td>\n",
       "      <td>894.000000</td>\n",
       "    </tr>\n",
       "    <tr>\n",
       "      <th>2</th>\n",
       "      <td>867</td>\n",
       "      <td>816.0</td>\n",
       "      <td>878.500000</td>\n",
       "    </tr>\n",
       "    <tr>\n",
       "      <th>3</th>\n",
       "      <td>816</td>\n",
       "      <td>969.0</td>\n",
       "      <td>874.666667</td>\n",
       "    </tr>\n",
       "    <tr>\n",
       "      <th>4</th>\n",
       "      <td>969</td>\n",
       "      <td>920.0</td>\n",
       "      <td>860.000000</td>\n",
       "    </tr>\n",
       "  </tbody>\n",
       "</table>\n",
       "</div>"
      ],
      "text/plain": [
       "   sales  shift_sale    week_avg\n",
       "0    894       863.0  894.000000\n",
       "1    863       867.0  894.000000\n",
       "2    867       816.0  878.500000\n",
       "3    816       969.0  874.666667\n",
       "4    969       920.0  860.000000"
      ]
     },
     "execution_count": 43,
     "metadata": {},
     "output_type": "execute_result"
    }
   ],
   "source": [
    "test = df.iloc[-52:]\n",
    "df = df.iloc[:-52]\n",
    "df.head()"
   ]
  },
  {
   "cell_type": "code",
   "execution_count": 44,
   "id": "e5c12a74",
   "metadata": {},
   "outputs": [
    {
     "data": {
      "text/html": [
       "<div>\n",
       "<style scoped>\n",
       "    .dataframe tbody tr th:only-of-type {\n",
       "        vertical-align: middle;\n",
       "    }\n",
       "\n",
       "    .dataframe tbody tr th {\n",
       "        vertical-align: top;\n",
       "    }\n",
       "\n",
       "    .dataframe thead th {\n",
       "        text-align: right;\n",
       "    }\n",
       "</style>\n",
       "<table border=\"1\" class=\"dataframe\">\n",
       "  <thead>\n",
       "    <tr style=\"text-align: right;\">\n",
       "      <th></th>\n",
       "      <th>sales</th>\n",
       "      <th>shift_sale</th>\n",
       "      <th>week_avg</th>\n",
       "    </tr>\n",
       "  </thead>\n",
       "  <tbody>\n",
       "    <tr>\n",
       "      <th>208</th>\n",
       "      <td>1261</td>\n",
       "      <td>1182.0</td>\n",
       "      <td>1314.50</td>\n",
       "    </tr>\n",
       "    <tr>\n",
       "      <th>209</th>\n",
       "      <td>1182</td>\n",
       "      <td>1216.0</td>\n",
       "      <td>1257.75</td>\n",
       "    </tr>\n",
       "    <tr>\n",
       "      <th>210</th>\n",
       "      <td>1216</td>\n",
       "      <td>1207.0</td>\n",
       "      <td>1244.25</td>\n",
       "    </tr>\n",
       "    <tr>\n",
       "      <th>211</th>\n",
       "      <td>1207</td>\n",
       "      <td>1141.0</td>\n",
       "      <td>1230.00</td>\n",
       "    </tr>\n",
       "    <tr>\n",
       "      <th>212</th>\n",
       "      <td>1141</td>\n",
       "      <td>1288.0</td>\n",
       "      <td>1216.50</td>\n",
       "    </tr>\n",
       "  </tbody>\n",
       "</table>\n",
       "</div>"
      ],
      "text/plain": [
       "     sales  shift_sale  week_avg\n",
       "208   1261      1182.0   1314.50\n",
       "209   1182      1216.0   1257.75\n",
       "210   1216      1207.0   1244.25\n",
       "211   1207      1141.0   1230.00\n",
       "212   1141      1288.0   1216.50"
      ]
     },
     "execution_count": 44,
     "metadata": {},
     "output_type": "execute_result"
    }
   ],
   "source": [
    "test.head()"
   ]
  },
  {
   "cell_type": "code",
   "execution_count": 45,
   "id": "37a1dee0",
   "metadata": {},
   "outputs": [],
   "source": [
    "from matplotlib import pyplot as plt\n",
    "from sklearn import svm\n",
    "from sklearn.model_selection import train_test_split\n",
    "from sklearn.metrics import r2_score, mean_squared_error, mean_absolute_error, median_absolute_error, explained_variance_score, max_error"
   ]
  },
  {
   "cell_type": "code",
   "execution_count": 46,
   "id": "9955a701",
   "metadata": {},
   "outputs": [
    {
     "name": "stdout",
     "output_type": "stream",
     "text": [
      "Model fit results:\n",
      "r2_score 0.9289992403898505 \t MSE 5041.803062784257\tEVS 0.9324982412884245 \n",
      " MAE 55.074051376468624\tMAD 49.19111044704914\t ME 225.74290596956553\n"
     ]
    }
   ],
   "source": [
    "X = df.drop('sales', axis=1)\n",
    "y = df['sales']\n",
    "X_train, X_test, y_train, y_test = train_test_split(X, y, test_size=0.2, random_state=42)\n",
    "clf = svm.SVR(C=1, kernel=\"linear\", degree=8, gamma='scale', coef0=10)\n",
    "clf.fit(X_train, y_train)\n",
    "predictions = clf.predict(X_test)\n",
    "print(f'Model fit results:\\n'\n",
    "      f'r2_score {r2_score(y_test, predictions)} \\t MSE {mean_squared_error(y_test, predictions)}'\n",
    "      f'\\tEVS {explained_variance_score(y_test, predictions)} \\n MAE {mean_absolute_error(y_test, predictions)}'\n",
    "      f'\\tMAD {median_absolute_error(y_test, predictions)}\\t ME {max_error(y_test, predictions)}')"
   ]
  },
  {
   "cell_type": "code",
   "execution_count": 47,
   "id": "ebe539b6",
   "metadata": {},
   "outputs": [
    {
     "data": {
      "text/html": [
       "<div>\n",
       "<style scoped>\n",
       "    .dataframe tbody tr th:only-of-type {\n",
       "        vertical-align: middle;\n",
       "    }\n",
       "\n",
       "    .dataframe tbody tr th {\n",
       "        vertical-align: top;\n",
       "    }\n",
       "\n",
       "    .dataframe thead th {\n",
       "        text-align: right;\n",
       "    }\n",
       "</style>\n",
       "<table border=\"1\" class=\"dataframe\">\n",
       "  <thead>\n",
       "    <tr style=\"text-align: right;\">\n",
       "      <th></th>\n",
       "      <th>sales</th>\n",
       "    </tr>\n",
       "  </thead>\n",
       "  <tbody>\n",
       "    <tr>\n",
       "      <th>0</th>\n",
       "      <td>1230.997608</td>\n",
       "    </tr>\n",
       "    <tr>\n",
       "      <th>1</th>\n",
       "      <td>1237.055537</td>\n",
       "    </tr>\n",
       "    <tr>\n",
       "      <th>2</th>\n",
       "      <td>1226.728063</td>\n",
       "    </tr>\n",
       "    <tr>\n",
       "      <th>3</th>\n",
       "      <td>1176.915327</td>\n",
       "    </tr>\n",
       "    <tr>\n",
       "      <th>4</th>\n",
       "      <td>1274.024951</td>\n",
       "    </tr>\n",
       "  </tbody>\n",
       "</table>\n",
       "</div>"
      ],
      "text/plain": [
       "         sales\n",
       "0  1230.997608\n",
       "1  1237.055537\n",
       "2  1226.728063\n",
       "3  1176.915327\n",
       "4  1274.024951"
      ]
     },
     "execution_count": 47,
     "metadata": {},
     "output_type": "execute_result"
    }
   ],
   "source": [
    "predictions = clf.predict(test.drop('sales', axis=1))\n",
    "predictions = pd.DataFrame(predictions, columns=['sales'])\n",
    "predictions.head()"
   ]
  },
  {
   "cell_type": "code",
   "execution_count": 48,
   "id": "463ec85e",
   "metadata": {},
   "outputs": [
    {
     "name": "stdout",
     "output_type": "stream",
     "text": [
      "Model test results:\n",
      "r2_score 0.9371923564047144 \t MSE 6201.042761524669\tEVS 0.9373439750800469 \n",
      " MAE 60.640658575139575\tMAD 52.170644741505384\t ME 242.0610369641131\n"
     ]
    }
   ],
   "source": [
    "print(f'Model test results:\\n'\n",
    "      f'r2_score {r2_score(test[\"sales\"], predictions)} \\t MSE {mean_squared_error(test[\"sales\"], predictions)}'\n",
    "      f'\\tEVS {explained_variance_score(test[\"sales\"], predictions)} \\n MAE {mean_absolute_error(test[\"sales\"], predictions)}'\n",
    "      f'\\tMAD {median_absolute_error(test[\"sales\"], predictions)}\\t ME {max_error(test[\"sales\"], predictions)}')\n"
   ]
  },
  {
   "cell_type": "code",
   "execution_count": 49,
   "id": "a0e87f7a",
   "metadata": {},
   "outputs": [],
   "source": [
    "test['weeks']=range(0,52)\n",
    "test = test [['weeks','sales','shift_sale','week_avg']]"
   ]
  },
  {
   "cell_type": "code",
   "execution_count": 50,
   "id": "5739d7b5",
   "metadata": {},
   "outputs": [
    {
     "data": {
      "text/plain": [
       "<matplotlib.legend.Legend at 0x2438afa1708>"
      ]
     },
     "execution_count": 50,
     "metadata": {},
     "output_type": "execute_result"
    },
    {
     "data": {
      "image/png": "[encoded data removed]",
      "text/plain": [
       "<Figure size 432x288 with 1 Axes>"
      ]
     },
     "metadata": {
      "needs_background": "light"
     },
     "output_type": "display_data"
    }
   ],
   "source": [
    "xx = test['weeks']\n",
    "plt.plot('weeks', 'sales', data=test)\n",
    "plt.plot(xx, 'sales', data=predictions)\n",
    "plt.xlabel('weeks')\n",
    "plt.ylabel('sales')\n",
    "plt.title('Sales x Forecast')\n",
    "plt.legend(labels=['sales','forecast'])"
   ]
  }
 ],
 "metadata": {
  "kernelspec": {
   "display_name": "Python 3 (ipykernel)",
   "language": "python",
   "name": "python3"
  },
  "language_info": {
   "codemirror_mode": {
    "name": "ipython",
    "version": 3
   },
   "file_extension": ".py",
   "mimetype": "text/x-python",
   "name": "python",
   "nbconvert_exporter": "python",
   "pygments_lexer": "ipython3",
   "version": "3.7.4"
  }
 },
 "nbformat": 4,
 "nbformat_minor": 5
}
